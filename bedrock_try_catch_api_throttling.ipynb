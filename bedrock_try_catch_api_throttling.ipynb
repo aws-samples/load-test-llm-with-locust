{
 "cells": [
  {
   "cell_type": "markdown",
   "id": "6642062d-845c-4e8f-bc5b-2d30656ab8bb",
   "metadata": {
    "tags": []
   },
   "source": [
    "### Catching ThrottlingException exceptions when using a low-level boto3 client"
   ]
  },
  {
   "cell_type": "markdown",
   "id": "0c46e20d-c988-4c54-a983-16237078f785",
   "metadata": {},
   "source": [
    "#### Quotas for Amazon Bedrock\n",
    "\n",
    "\n",
    "Your AWS account has default quotas, formerly referred to as limits, for each AWS service. Unless otherwise noted, each quota is Region-specific within your AWS account. Some quotas may be adjustable. The following list explains the meaning of the Adjustable through Service Quotas column in the following tables:\n",
    "\n",
    "https://docs.aws.amazon.com/bedrock/latest/userguide/quotas.html"
   ]
  },
  {
   "cell_type": "code",
   "execution_count": 63,
   "id": "9afca95a-d82b-421f-963a-b0dc29ad5186",
   "metadata": {
    "tags": []
   },
   "outputs": [],
   "source": [
    "modelId = 'anthropic.claude-3-sonnet-20240229-v1:0'"
   ]
  },
  {
   "cell_type": "code",
   "execution_count": 64,
   "id": "ac55be0c-e925-4c11-911b-15174a846814",
   "metadata": {
    "tags": []
   },
   "outputs": [],
   "source": [
    "max_tokens_to_sample = 200\n",
    "\n",
    "system_message = f\"You are a long and high-quality story teller. Make the story longer than {max_tokens_to_sample}\"\n",
    "\n",
    "messages = [\n",
    "  {\"role\": \"user\", \"content\": \"\"\"\n",
    "  Rex and Charlie were best friends who did everything together. \n",
    "  They lived next door to each other with their human families and spent all day playing in the backyard. \n",
    "  Rex was a golden retriever, always happy and eager for fun. Charlie was a German shepherd, more serious but very loyal.  \n",
    "  Every morning, Rex and Charlie would wake up and bark excitedly, ready to start the day's adventures. \n",
    "  Their families would let them out into the backyard and they'd run around chasing each other and sniffing for interesting smells. \n",
    "  After tiring themselves out, they'd nap in the shade of the big oak tree, Rex's tail still thumping contentedly even in his sleep. \n",
    "  \"\"\"\n",
    "  }\n",
    "]"
   ]
  },
  {
   "cell_type": "code",
   "execution_count": 65,
   "id": "fcc6d4a4-da13-472b-963d-c109c1964093",
   "metadata": {
    "tags": []
   },
   "outputs": [
    {
     "name": "stdout",
     "output_type": "stream",
     "text": [
      "You are a long and high-quality story teller. Make the story longer than 200\n",
      "[{'role': 'user', 'content': \"\\n  Rex and Charlie were best friends who did everything together. \\n  They lived next door to each other with their human families and spent all day playing in the backyard. \\n  Rex was a golden retriever, always happy and eager for fun. Charlie was a German shepherd, more serious but very loyal.  \\n  Every morning, Rex and Charlie would wake up and bark excitedly, ready to start the day's adventures. \\n  Their families would let them out into the backyard and they'd run around chasing each other and sniffing for interesting smells. \\n  After tiring themselves out, they'd nap in the shade of the big oak tree, Rex's tail still thumping contentedly even in his sleep. \\n  \"}]\n"
     ]
    }
   ],
   "source": [
    "print(system_message)\n",
    "print(messages)"
   ]
  },
  {
   "cell_type": "code",
   "execution_count": 56,
   "id": "5e841ed6-4502-4e23-893b-fbd3f606a76b",
   "metadata": {
    "tags": []
   },
   "outputs": [],
   "source": [
    "import boto3\n",
    "import json\n",
    "import time \n",
    "\n",
    "# Create a Boto3 client for Bedrock Runtime\n",
    "bedrock_client = boto3.client(service_name='bedrock-runtime')\n",
    "\n",
    "# Define the prompt and other parameters\n",
    "modelId = 'anthropic.claude-3-sonnet-20240229-v1:0'\n",
    "accept = 'application/json'\n",
    "contentType = 'application/json'"
   ]
  },
  {
   "cell_type": "code",
   "execution_count": 70,
   "id": "5ab5ad44-2116-4a6f-8a9f-2eb543fa0eca",
   "metadata": {
    "tags": []
   },
   "outputs": [
    {
     "name": "stdout",
     "output_type": "stream",
     "text": [
      "Throttling Exception occurred: An error occurred (ThrottlingException) when calling the InvokeModel operation (reached max retries: 4): Too many requests, please wait before trying again. You have sent too many requests.  Wait before trying again.\n",
      "You can add additional error handling logic here, such as retrying with exponential backoff or logging\n"
     ]
    }
   ],
   "source": [
    "from botocore.exceptions import ClientError\n",
    "\n",
    "# Measure function execution time\n",
    "start_time = time.time()  # Get the current time before calling the function\n",
    "\n",
    "try:\n",
    "    # Invoke the model\n",
    "    response = bedrock_client.invoke_model(\n",
    "        modelId=modelId,\n",
    "        accept=accept,\n",
    "        contentType=contentType,\n",
    "        body=json.dumps({\n",
    "            \"anthropic_version\": \"bedrock-2023-05-31\", \n",
    "            \"messages\": messages, \n",
    "            \"system\": system_message,    \n",
    "            \"max_tokens\": 300, \n",
    "            \"temperature\": 0.7, \n",
    "            \"top_p\": 0.9})\n",
    "    )\n",
    "except ClientError as e:\n",
    "    # Check if the error is a ThrottlingException\n",
    "    if e.response['Error']['Code'] == 'ThrottlingException':\n",
    "        print(f\"Throttling Exception occurred: {e}\")\n",
    "        \n",
    "        # You can add additional error handling logic here, such as retrying with exponential backoff or logging\n",
    "        print(\"You can add additional error handling logic here, such as retrying with exponential backoff or logging\")\n",
    "    else:\n",
    "        # Handle other client errors\n",
    "        print(f\"An error occurred: {e}\")\n",
    "except Exception as e:\n",
    "    # Handle other exceptions here\n",
    "    print(f\"An error occurred: {e}\")\n",
    "else:\n",
    "    # Code executed if no exception occurred\n",
    "    end_time = time.time()  # Get the current time after the function call\n",
    "    execution_time = end_time - start_time  # Calculate the execution time\n",
    "    # Process the response\n",
    "    response_body = json.loads(response.get('body').read())\n",
    "    print(response_body['content'][0]['text'])    \n",
    "    print(f\"Function execution time: {execution_time} seconds\")"
   ]
  },
  {
   "cell_type": "code",
   "execution_count": null,
   "id": "b2d1697c-00c1-4fa4-a0c0-db9195c6f27f",
   "metadata": {},
   "outputs": [],
   "source": []
  }
 ],
 "metadata": {
  "kernelspec": {
   "display_name": "conda_python3",
   "language": "python",
   "name": "conda_python3"
  },
  "language_info": {
   "codemirror_mode": {
    "name": "ipython",
    "version": 3
   },
   "file_extension": ".py",
   "mimetype": "text/x-python",
   "name": "python",
   "nbconvert_exporter": "python",
   "pygments_lexer": "ipython3",
   "version": "3.10.13"
  }
 },
 "nbformat": 4,
 "nbformat_minor": 5
}
