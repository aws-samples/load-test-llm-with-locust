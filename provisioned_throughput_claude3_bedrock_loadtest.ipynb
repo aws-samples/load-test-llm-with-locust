{
 "cells": [
  {
   "cell_type": "markdown",
   "id": "bcc085be-240d-422e-a026-0a59134cf0c6",
   "metadata": {},
   "source": [
    "### Testing the throughput and lantency with provisioned throughput"
   ]
  },
  {
   "cell_type": "markdown",
   "id": "1c06cb81-2db8-4b05-be4c-a5dc74e92144",
   "metadata": {},
   "source": [
    "Throughput refers to the number and rate of inputs and outputs that a model processes and returns. You can purchase Provisioned Throughput to provision a higher level of throughput for a model at a fixed cost."
   ]
  },
  {
   "cell_type": "markdown",
   "id": "64616f7e-7091-4f80-bc83-5809cc15fe8e",
   "metadata": {},
   "source": [
    "The number of Model Units (MUs) that you specify for the Provisioned Throughput. An MU delivers a specific throughput level for the specified model. The throughput level of an MU specifies: The number of input and output tokens that an MU can process across all requests within a span of one minute."
   ]
  },
  {
   "cell_type": "markdown",
   "id": "fc1c15c1",
   "metadata": {},
   "source": [
    "<div align=\"center\">\n",
    "    <img src=\"image/provisioned_throughput.png\" />\n",
    "</div>"
   ]
  },
  {
   "cell_type": "markdown",
   "id": "0b352ec5",
   "metadata": {},
   "source": [
    "<div align=\"center\">\n",
    "    <img src=\"image/provisioned_throughput_details.png\" />\n",
    "</div>"
   ]
  },
  {
   "cell_type": "code",
   "execution_count": 4,
   "id": "a23f2afa-1a73-4745-9e22-2ae5fdc1e9b3",
   "metadata": {
    "tags": []
   },
   "outputs": [],
   "source": [
    "modelId = 'arn:aws:bedrock:us-east-1:70768*******:provisioned-model/nnp8ar503q42'"
   ]
  },
  {
   "cell_type": "markdown",
   "id": "f04b7600-ddd0-4d68-a2a4-9ccfe53dd623",
   "metadata": {},
   "source": [
    "Run inference using a Provisioned Throughput https://docs.aws.amazon.com/bedrock/latest/userguide/prov-thru-code-samples.html"
   ]
  },
  {
   "cell_type": "code",
   "execution_count": 5,
   "id": "3bdb3667-54b5-414e-8a24-6c9b240e3841",
   "metadata": {
    "tags": []
   },
   "outputs": [],
   "source": [
    "import logging\n",
    "\n",
    "import boto3\n",
    "import json\n",
    "\n",
    "max_tokens_to_sample = 200\n",
    "\n",
    "system_message = f\"You are a long and high-quality story teller. Make the story longer than {max_tokens_to_sample}\"\n",
    "\n",
    "messages = [\n",
    "  {\"role\": \"user\", \"content\": \"\"\"\n",
    "  Rex and Charlie were best friends who did everything together. \n",
    "  They lived next door to each other with their human families and spent all day playing in the backyard. \n",
    "  Rex was a golden retriever, always happy and eager for fun. Charlie was a German shepherd, more serious but very loyal.  \n",
    "  Every morning, Rex and Charlie would wake up and bark excitedly, ready to start the day's adventures. \n",
    "  Their families would let them out into the backyard and they'd run around chasing each other and sniffing for interesting smells. \n",
    "  After tiring themselves out, they'd nap in the shade of the big oak tree, Rex's tail still thumping contentedly even in his sleep. \n",
    "  \"\"\"\n",
    "  }\n",
    "]\n"
   ]
  },
  {
   "cell_type": "code",
   "execution_count": 6,
   "id": "db8edf20-14e4-4daf-9bae-5405da6e1223",
   "metadata": {
    "tags": []
   },
   "outputs": [
    {
     "name": "stdout",
     "output_type": "stream",
     "text": [
      "You are a long and high-quality story teller. Make the story longer than 200\n",
      "[{'role': 'user', 'content': \"\\n  Rex and Charlie were best friends who did everything together. \\n  They lived next door to each other with their human families and spent all day playing in the backyard. \\n  Rex was a golden retriever, always happy and eager for fun. Charlie was a German shepherd, more serious but very loyal.  \\n  Every morning, Rex and Charlie would wake up and bark excitedly, ready to start the day's adventures. \\n  Their families would let them out into the backyard and they'd run around chasing each other and sniffing for interesting smells. \\n  After tiring themselves out, they'd nap in the shade of the big oak tree, Rex's tail still thumping contentedly even in his sleep. \\n  \"}]\n"
     ]
    }
   ],
   "source": [
    "print(system_message)\n",
    "print(messages)"
   ]
  },
  {
   "cell_type": "code",
   "execution_count": 7,
   "id": "35657d27-ccdd-428f-a2ff-69039e300b8e",
   "metadata": {
    "tags": []
   },
   "outputs": [],
   "source": [
    "# Create a Boto3 client for Bedrock Runtime\n",
    "bedrock_client = boto3.client(service_name='bedrock-runtime')\n",
    "\n",
    "# Define the prompt and other parameters\n",
    "accept = 'application/json'\n",
    "contentType = 'application/json'"
   ]
  },
  {
   "cell_type": "code",
   "execution_count": 8,
   "id": "5475b101-ae5a-44f2-94a1-b19a57ec0463",
   "metadata": {
    "tags": []
   },
   "outputs": [
    {
     "name": "stdout",
     "output_type": "stream",
     "text": [
      "Here is a longer version of the story about Rex and Charlie, the best friend dogs:\n",
      "\n",
      "Rex and Charlie were best friends who did everything together. They lived next door to each other with their human families and spent all day, every day playing in the backyard. Rex was a golden retriever, always happy and eager for fun and adventure. Charlie was a German shepherd, more serious and focused but extremely loyal to his goofy pal.\n",
      "\n",
      "Every morning, before the sun was fully up, Rex and Charlie would wake up and start barking excitedly, ready to begin the day's adventures and shenanigans. Their families would stumble out of bed, smiling at the pups' boundless energy, and let them out into the big backyard. Rex and Charlie would burst through the dog doors and immediately break into a spirited game of chase, running circles around the yard, kicking up grass and dirt. \n",
      "\n",
      "After wearing themselves out from their morning zoomies, they'd plop down in the cool shade of the giant oak tree in the corner of the yard. Rex would roll onto his back, all four legs splayed out, tongue lolling happily as he panted to catch his breath. Charlie would sit upright, ever vigilant, watching over his buddy as he rested. Once Rex had a chance to recharge, he'd nudge Charlie playfully until the shepherd reluctantly joined him in some lazy\n"
     ]
    }
   ],
   "source": [
    "# Invoke the model\n",
    "response = bedrock_client.invoke_model(\n",
    "    modelId=modelId,\n",
    "    accept=accept,\n",
    "    contentType=contentType,\n",
    "    body=json.dumps({\n",
    "        \"anthropic_version\": \"bedrock-2023-05-31\", \n",
    "        \"messages\": messages, \n",
    "        \"system\": system_message,    \n",
    "        \"max_tokens\": 300, \n",
    "        \"temperature\": 0.7, \n",
    "        \"top_p\": 0.9})\n",
    ")\n",
    "\n",
    "\n",
    "# Process the response\n",
    "response_body = json.loads(response.get('body').read())\n",
    "print(response_body['content'][0]['text'])"
   ]
  },
  {
   "cell_type": "markdown",
   "id": "454fb9cc-0081-4397-aa77-47d782e9d1b8",
   "metadata": {},
   "source": [
    "### Load testing with Locust"
   ]
  },
  {
   "cell_type": "code",
   "execution_count": 1,
   "id": "ddaa7003-59de-416f-82a9-56c706ef14c3",
   "metadata": {
    "tags": []
   },
   "outputs": [
    {
     "name": "stdout",
     "output_type": "stream",
     "text": [
      "Requirement already satisfied: locust in /home/ec2-user/anaconda3/envs/python3/lib/python3.10/site-packages (2.26.0)\n",
      "Requirement already satisfied: gevent>=22.10.2 in /home/ec2-user/anaconda3/envs/python3/lib/python3.10/site-packages (from locust) (23.9.0.post1)\n",
      "Requirement already satisfied: flask>=2.0.0 in /home/ec2-user/anaconda3/envs/python3/lib/python3.10/site-packages (from locust) (3.0.2)\n",
      "Requirement already satisfied: Werkzeug>=2.0.0 in /home/ec2-user/anaconda3/envs/python3/lib/python3.10/site-packages (from locust) (3.0.1)\n",
      "Requirement already satisfied: requests>=2.26.0 in /home/ec2-user/anaconda3/envs/python3/lib/python3.10/site-packages (from locust) (2.31.0)\n",
      "Requirement already satisfied: msgpack>=1.0.0 in /home/ec2-user/anaconda3/envs/python3/lib/python3.10/site-packages (from locust) (1.0.7)\n",
      "Requirement already satisfied: pyzmq>=25.0.0 in /home/ec2-user/anaconda3/envs/python3/lib/python3.10/site-packages (from locust) (25.1.2)\n",
      "Requirement already satisfied: geventhttpclient==2.2.1 in /home/ec2-user/anaconda3/envs/python3/lib/python3.10/site-packages (from locust) (2.2.1)\n",
      "Requirement already satisfied: ConfigArgParse>=1.5.5 in /home/ec2-user/anaconda3/envs/python3/lib/python3.10/site-packages (from locust) (1.7)\n",
      "Requirement already satisfied: psutil>=5.9.1 in /home/ec2-user/anaconda3/envs/python3/lib/python3.10/site-packages (from locust) (5.9.8)\n",
      "Requirement already satisfied: Flask-Login>=0.6.3 in /home/ec2-user/anaconda3/envs/python3/lib/python3.10/site-packages (from locust) (0.6.3)\n",
      "Requirement already satisfied: Flask-Cors>=3.0.10 in /home/ec2-user/anaconda3/envs/python3/lib/python3.10/site-packages (from locust) (4.0.0)\n",
      "Requirement already satisfied: roundrobin>=0.0.2 in /home/ec2-user/anaconda3/envs/python3/lib/python3.10/site-packages (from locust) (0.0.4)\n",
      "Requirement already satisfied: tomli>=1.1.0 in /home/ec2-user/anaconda3/envs/python3/lib/python3.10/site-packages (from locust) (2.0.1)\n",
      "Requirement already satisfied: certifi in /home/ec2-user/anaconda3/envs/python3/lib/python3.10/site-packages (from geventhttpclient==2.2.1->locust) (2024.2.2)\n",
      "Requirement already satisfied: brotli in /home/ec2-user/anaconda3/envs/python3/lib/python3.10/site-packages (from geventhttpclient==2.2.1->locust) (1.1.0)\n",
      "Requirement already satisfied: urllib3 in /home/ec2-user/anaconda3/envs/python3/lib/python3.10/site-packages (from geventhttpclient==2.2.1->locust) (2.0.7)\n",
      "Requirement already satisfied: Jinja2>=3.1.2 in /home/ec2-user/anaconda3/envs/python3/lib/python3.10/site-packages (from flask>=2.0.0->locust) (3.1.3)\n",
      "Requirement already satisfied: itsdangerous>=2.1.2 in /home/ec2-user/anaconda3/envs/python3/lib/python3.10/site-packages (from flask>=2.0.0->locust) (2.1.2)\n",
      "Requirement already satisfied: click>=8.1.3 in /home/ec2-user/anaconda3/envs/python3/lib/python3.10/site-packages (from flask>=2.0.0->locust) (8.1.7)\n",
      "Requirement already satisfied: blinker>=1.6.2 in /home/ec2-user/anaconda3/envs/python3/lib/python3.10/site-packages (from flask>=2.0.0->locust) (1.7.0)\n",
      "Requirement already satisfied: zope.event in /home/ec2-user/anaconda3/envs/python3/lib/python3.10/site-packages (from gevent>=22.10.2->locust) (5.0)\n",
      "Requirement already satisfied: zope.interface in /home/ec2-user/anaconda3/envs/python3/lib/python3.10/site-packages (from gevent>=22.10.2->locust) (6.2)\n",
      "Requirement already satisfied: greenlet>=2.0.0 in /home/ec2-user/anaconda3/envs/python3/lib/python3.10/site-packages (from gevent>=22.10.2->locust) (3.0.3)\n",
      "Requirement already satisfied: charset-normalizer<4,>=2 in /home/ec2-user/anaconda3/envs/python3/lib/python3.10/site-packages (from requests>=2.26.0->locust) (3.3.2)\n",
      "Requirement already satisfied: idna<4,>=2.5 in /home/ec2-user/anaconda3/envs/python3/lib/python3.10/site-packages (from requests>=2.26.0->locust) (3.6)\n",
      "Requirement already satisfied: MarkupSafe>=2.1.1 in /home/ec2-user/anaconda3/envs/python3/lib/python3.10/site-packages (from Werkzeug>=2.0.0->locust) (2.1.5)\n",
      "Requirement already satisfied: setuptools in /home/ec2-user/anaconda3/envs/python3/lib/python3.10/site-packages (from zope.event->gevent>=22.10.2->locust) (69.1.0)\n"
     ]
    }
   ],
   "source": [
    "!pip install locust"
   ]
  },
  {
   "cell_type": "code",
   "execution_count": 2,
   "id": "27732e78-7619-4741-affe-5c1fa33f0091",
   "metadata": {
    "tags": []
   },
   "outputs": [
    {
     "name": "stdout",
     "output_type": "stream",
     "text": [
      "Overwriting locustfile.py\n"
     ]
    }
   ],
   "source": [
    "%%writefile locustfile.py\n",
    "\n",
    "from locust import User, task, between\n",
    "import logging\n",
    "\n",
    "import boto3\n",
    "import json\n",
    "\n",
    "modelId = 'arn:aws:bedrock:us-east-1:70768*******:provisioned-model/nnp8ar503q42'\n",
    "max_tokens_to_sample = 200\n",
    "\n",
    "system_message = f\"You are a long and high-quality story teller. Make the story longer than {max_tokens_to_sample}\"\n",
    "\n",
    "messages = [\n",
    "  {\"role\": \"user\", \"content\": \"\"\"\n",
    "  Rex and Charlie were best friends who did everything together. \n",
    "  They lived next door to each other with their human families and spent all day playing in the backyard. \n",
    "  Rex was a golden retriever, always happy and eager for fun. Charlie was a German shepherd, more serious but very loyal.  \n",
    "  Every morning, Rex and Charlie would wake up and bark excitedly, ready to start the day's adventures. \n",
    "  Their families would let them out into the backyard and they'd run around chasing each other and sniffing for interesting smells. \n",
    "  After tiring themselves out, they'd nap in the shade of the big oak tree, Rex's tail still thumping contentedly even in his sleep. \n",
    "  \"\"\"\n",
    "  }\n",
    "]\n",
    "\n",
    "# Create a Boto3 client for Bedrock Runtime\n",
    "bedrock_client = boto3.client(service_name='bedrock-runtime')\n",
    "\n",
    "# Define the prompt and other parameters\n",
    "accept = 'application/json'\n",
    "contentType = 'application/json'\n",
    "\n",
    "\n",
    "class LLMUser(User):\n",
    "    @task\n",
    "    def generation(self):\n",
    "        # Invoke the model\n",
    "        with self.environment.events.request.measure(\"[Send]\", \"Prompt\"):\n",
    "            # Invoke the model\n",
    "            response = bedrock_client.invoke_model(\n",
    "                modelId=modelId,\n",
    "                accept=accept,\n",
    "                contentType=contentType,\n",
    "                body=json.dumps({\n",
    "                    \"anthropic_version\": \"bedrock-2023-05-31\", \n",
    "                    \"messages\": messages, \n",
    "                    \"system\": system_message,    \n",
    "                    \"max_tokens\": 300, \n",
    "                    \"temperature\": 0.7, \n",
    "                    \"top_p\": 0.9})\n",
    "            )\n",
    "\n",
    "\n",
    "            # Process the response\n",
    "            response_body = json.loads(response.get('body').read())\n",
    "            print(response_body['content'][0]['text'])\n",
    "            \n",
    "        logging.info(\"Finished generation!\")            "
   ]
  },
  {
   "cell_type": "markdown",
   "id": "875f7987-18bc-4deb-98b3-71a4e712c983",
   "metadata": {},
   "source": [
    "The configuration with Command Line Options https://docs.locust.io/en/stable/configuration.html"
   ]
  },
  {
   "cell_type": "code",
   "execution_count": null,
   "id": "bf23f9d1-0f94-4687-8e11-a62d4bf70307",
   "metadata": {},
   "outputs": [],
   "source": []
  },
  {
   "cell_type": "markdown",
   "id": "b7db38d4-b323-463f-836d-51905c0e46a1",
   "metadata": {},
   "source": [
    "--users <int> Peak number of concurrent Locust users. Primarily used together with --headless or --autostart.\n",
    "    \n",
    "--headless Disable the web interface, and start the test immediately.\n",
    "    \n",
    "--csv Store request stats to files in CSV format.\n",
    "\n",
    "--spawn-rate <float> Rate to spawn users at (users per second)"
   ]
  },
  {
   "cell_type": "markdown",
   "id": "1b92b060-de61-4d6f-a63f-8225449ba41f",
   "metadata": {},
   "source": [
    "In this example, the --users option sets the total number of users to 30, and the --spawn-rate option sets the rate of user spawning to 30 users per second. By using the same value for --spawn-rate as the total number of users, all 30 users will be spawned immediately. Therefore, at any given time during the test, there will be a maximum of 30 concurrent users.\n",
    "\n",
    "Please note that the --run-time option sets the duration of the test in seconds. In this example, the test will run for 120 seconds before stopping.\n",
    "\n",
    "!locust --headless --users 30 --spawn-rate 30 --run-time 120 --csv ./benchmark_metric/benchmark_u30"
   ]
  },
  {
   "cell_type": "code",
   "execution_count": 10,
   "id": "fa215728-03ec-4a37-85b8-2d7a625eeb87",
   "metadata": {},
   "outputs": [
    {
     "name": "stdout",
     "output_type": "stream",
     "text": [
      "[2024-04-23 03:10:30,658] ip-172-16-187-106.ec2.internal/INFO/locust.main: Run time limit set to 240 seconds\n",
      "[2024-04-23 03:10:30,658] ip-172-16-187-106.ec2.internal/INFO/locust.main: Starting Locust 2.26.0\n",
      "Type     Name  # reqs      # fails |    Avg     Min     Max    Med |   req/s  failures/s\n",
      "--------||-------|-------------|-------|-------|-------|-------|--------|-----------\n",
      "--------||-------|-------------|-------|-------|-------|-------|--------|-----------\n",
      "         Aggregated       0     0(0.00%) |      0       0       0      0 |    0.00        0.00\n",
      "\n",
      "[2024-04-23 03:10:30,659] ip-172-16-187-106.ec2.internal/INFO/locust.runners: Ramping to 30 users at a rate of 30.00 per second\n",
      "[2024-04-23 03:10:41,086] ip-172-16-187-106.ec2.internal/INFO/root: Finished generation!\n",
      "Type     Name  # reqs      # fails |    Avg     Min     Max    Med |   req/s  failures/s\n",
      "--------||-------|-------------|-------|-------|-------|-------|--------|-----------\n",
      "[Send]   Prompt      30     0(0.00%) |   8935    7393   10413   8800 |    1.33        0.00\n",
      "--------||-------|-------------|-------|-------|-------|-------|--------|-----------\n",
      "         Aggregated      30     0(0.00%) |   8935    7393   10413   8800 |    1.33        0.00\n",
      "\n",
      "Type     Name  # reqs      # fails |    Avg     Min     Max    Med |   req/s  failures/s\n",
      "--------||-------|-------------|-------|-------|-------|-------|--------|-----------\n",
      "[Send]   Prompt      30     0(0.00%) |   8935    7393   10413   8800 |    1.33        0.00\n",
      "--------||-------|-------------|-------|-------|-------|-------|--------|-----------\n",
      "         Aggregated      30     0(0.00%) |   8935    7393   10413   8800 |    1.33        0.00\n",
      "\n",
      "[2024-04-23 03:12:56,579] ip-172-16-187-106.ec2.internal/INFO/root: Finished generation!\n",
      "Type     Name  # reqs      # fails |    Avg     Min     Max    Med |   req/s  failures/s\n",
      "--------||-------|-------------|-------|-------|-------|-------|--------|-----------\n",
      "[Send]   Prompt     512     0(0.00%) |   8323    6593   10929   8300 |    3.80        0.00\n",
      "--------||-------|-------------|-------|-------|-------|-------|--------|-----------\n",
      "         Aggregated     512     0(0.00%) |   8323    6593   10929   8300 |    3.80        0.00\n",
      "\n",
      "[2024-04-23 03:14:22,136] ip-172-16-187-106.ec2.internal/INFO/root: Finished generation!\n",
      "Here is a longer version of the story:\n",
      "\n",
      "Rex and Charlie were best friends who did everything together. They had been inseparable ever since Charlie's family moved in next door when the pups were just a few months old. They lived next door to each other with their human families and spent all day playing in the big, fenced-in backyard that joined their homes.\n",
      "\n",
      "Rex was a golden retriever, always happy and eager for fun and adventure. His tail never stopped wagging and he greeted every day with boundless energy and excitement. Charlie was a German shepherd, more serious and watchful by nature, but he was also extremely loyal and loved his goofy pal Rex.\n",
      "\n",
      "Every morning, Rex and Charlie would wake up at the crack of dawn, barking excitedly and scratching at the back door, ready to start the day's adventures. Their families would let them out into the backyard and they'd burst out the door, running around at full speed chasing each other and sniffing every inch for interesting smells. \n",
      "\n",
      "They'd play chase, wrestle on the grass, dig holes, and chase any birds or squirrels that dared to enter their territory. Rex loved to play keep-away, grabbing a toy and dashing around with Charlie in hot pursuit. Charlie preferred to play hide-and-seek, using all his tracking skills to hunt Rex down.\n",
      "\n",
      "After a couple of hours of\n",
      "[2024-04-23 03:14:22,738] ip-172-16-187-106.ec2.internal/INFO/root: Finished generation!\n",
      "Type     Name  # reqs      # fails |    Avg     Min     Max    Med |   req/s  failures/s\n",
      "--------||-------|-------------|-------|-------|-------|-------|--------|-----------\n",
      "[Send]   Prompt     821     0(0.00%) |   8306    6563   10929   8300 |    3.70        0.00\n",
      "--------||-------|-------------|-------|-------|-------|-------|--------|-----------\n",
      "         Aggregated     821     0(0.00%) |   8306    6563   10929   8300 |    3.70        0.00\n",
      "\n",
      "\n"
     ]
    }
   ],
   "source": [
    "!locust --headless --users 30 --spawn-rate 30 --run-time 240 --csv ./benchmark_metric/benchmark_u30"
   ]
  },
  {
   "cell_type": "code",
   "execution_count": null,
   "id": "ac579ad7-1714-4be7-bd14-130a80939f5d",
   "metadata": {},
   "outputs": [],
   "source": []
  },
  {
   "cell_type": "code",
   "execution_count": null,
   "id": "0f0c7338-1358-4759-8577-fa26b14cad32",
   "metadata": {},
   "outputs": [],
   "source": []
  }
 ],
 "metadata": {
  "kernelspec": {
   "display_name": "conda_python3",
   "language": "python",
   "name": "conda_python3"
  },
  "language_info": {
   "codemirror_mode": {
    "name": "ipython",
    "version": 3
   },
   "file_extension": ".py",
   "mimetype": "text/x-python",
   "name": "python",
   "nbconvert_exporter": "python",
   "pygments_lexer": "ipython3",
   "version": "3.10.13"
  }
 },
 "nbformat": 4,
 "nbformat_minor": 5
}
